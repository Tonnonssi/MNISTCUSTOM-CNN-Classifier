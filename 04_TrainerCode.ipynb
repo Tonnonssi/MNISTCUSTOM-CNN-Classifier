{
  "nbformat": 4,
  "nbformat_minor": 0,
  "metadata": {
    "colab": {
      "provenance": [],
      "toc_visible": true,
      "authorship_tag": "ABX9TyPOujNM1cyaR94liIeM7ME/",
      "include_colab_link": true
    },
    "kernelspec": {
      "name": "python3",
      "display_name": "Python 3"
    },
    "language_info": {
      "name": "python"
    }
  },
  "cells": [
    {
      "cell_type": "markdown",
      "metadata": {
        "id": "view-in-github",
        "colab_type": "text"
      },
      "source": [
        "<a href=\"https://colab.research.google.com/github/Tonnonssi/MNISTCUSTOM-CNN-Classifier/blob/master/04_TrainerCode.ipynb\" target=\"_parent\"><img src=\"https://colab.research.google.com/assets/colab-badge.svg\" alt=\"Open In Colab\"/></a>"
      ]
    },
    {
      "cell_type": "markdown",
      "source": [
        "# *00.* Import"
      ],
      "metadata": {
        "id": "dRifhZ_jEpMJ"
      }
    },
    {
      "cell_type": "code",
      "execution_count": 2,
      "metadata": {
        "colab": {
          "base_uri": "https://localhost:8080/"
        },
        "id": "wl04ozhNDnDe",
        "outputId": "ac457b74-fc59-47b5-e0af-6d97c005b62c"
      },
      "outputs": [
        {
          "output_type": "stream",
          "name": "stdout",
          "text": [
            "Mounted at /content/drive\n"
          ]
        }
      ],
      "source": [
        "from google.colab import drive\n",
        "drive.mount('/content/drive')"
      ]
    },
    {
      "cell_type": "code",
      "source": [
        "#Basic\n",
        "import os\n",
        "import pickle\n",
        "import numpy as np\n",
        "import pandas as pd\n",
        "import time\n",
        "import matplotlib.pyplot as plt\n",
        "import random\n",
        "import PIL.Image\n",
        "\n",
        "# 1_01. Load CUSTOM DATA Class, 02. Execute \n",
        "import torch\n",
        "import torchvision\n",
        "import torchvision.transforms as transforms\n",
        "from torch.utils.data import Dataset, DataLoader\n",
        "from torch.utils.data import random_split\n",
        "\n",
        "# 1_02. Net Class\n",
        "import torch.optim as optim\n",
        "import torch.nn as nn\n",
        "import torch.nn.functional as F\n",
        "from torch.nn.modules.pooling import MaxPool2d"
      ],
      "metadata": {
        "id": "Hm8P7vM-Ex63"
      },
      "execution_count": 1,
      "outputs": []
    },
    {
      "cell_type": "markdown",
      "source": [
        "# *01.* Classes"
      ],
      "metadata": {
        "id": "C4_dvgRxJSq0"
      }
    },
    {
      "cell_type": "markdown",
      "source": [
        "# -- Classes used in Data Setting part "
      ],
      "metadata": {
        "id": "QGJH-iyRkC4Z"
      }
    },
    {
      "cell_type": "markdown",
      "source": [
        "## 01 Load CUSTOM DATA Class"
      ],
      "metadata": {
        "id": "V0o2HXdXHGhc"
      }
    },
    {
      "cell_type": "code",
      "source": [
        "class CollectedDataset(Dataset):\n",
        "    '''\n",
        "    custom data can be divided into two types. \n",
        "\n",
        "    1. collected data : data collected by drawing nums. \n",
        "                        its arr has only 0,1 values \n",
        "\n",
        "    2. augmentated data : data augmentated by turning, expanding, or both. \n",
        "                          its arr has (0-1) values or (0-255: Astype uint8)\n",
        "\n",
        "    Since I saved them divided, I have to load them seperated. \n",
        "\n",
        "    collected data and augmentated data are stored in self.data_list\n",
        "    \n",
        "    '''\n",
        "    def __init__(self, collected_url=None, augmentated_url=None, transform=None):\n",
        "\n",
        "        self.collected_data = self.download_files(collected_url)\n",
        "        self.augmentated_data = self.download_files(augmentated_url)\n",
        "\n",
        "        self.data_list = self.collected_data + self.augmentated_data\n",
        "\n",
        "        self.transform = transform\n",
        "\n",
        "    def download_files(self, data_url:str) -> list:\n",
        "        if data_url == None:\n",
        "            return []\n",
        "\n",
        "        data_lst = []\n",
        "        fnames = self.make_fname_lst(data_url)\n",
        "        for fname in fnames:\n",
        "            data = self.open_pickle_data(data_url+fname)\n",
        "            tu_data = self.select_answerimage(data)\n",
        "            data_lst.extend(tu_data)\n",
        "\n",
        "        return data_lst\n",
        "\n",
        "    def make_fname_lst(self, pre_url:str) -> list:\n",
        "        fname_lst = os.listdir(pre_url)\n",
        "        return fname_lst\n",
        "\n",
        "    def open_pickle_data(self, url: str) -> list:\n",
        "        with open(url, 'rb') as f:\n",
        "            while True:\n",
        "                try:\n",
        "                    data = pickle.load(f)\n",
        "                except EOFError:\n",
        "                    break\n",
        "        return data\n",
        "\n",
        "    def select_answerimage(self, lst2d): \n",
        "        lst = []\n",
        "        for data in lst2d:\n",
        "            answer = data[0]\n",
        "            img = data[2]\n",
        "            \n",
        "            if img.dtype == 'float64':\n",
        "                img = (img *255).astype(np.uint8) #주의!\n",
        "        \n",
        "            if img.shape == (28, 28):\n",
        "                image_new = np.expand_dims(img, axis=0) #sol1\n",
        "                img = np.transpose(image_new, (1, 2, 0)) #sol2\n",
        "                lst.append((img, answer))\n",
        "            else:\n",
        "                img= np.transpose(img, (1, 2, 0)) #sol2\n",
        "                lst.append((img, answer))\n",
        "            \n",
        "        return lst\n",
        "\n",
        "    def __len__(self):\n",
        "        return len(self.data_list)\n",
        "    \n",
        "    def __getitem__(self, idx):\n",
        "        img = self.data_list[idx][0]\n",
        "        label = self.data_list[idx][1]\n",
        "\n",
        "        if self.transform:\n",
        "            img = self.transform(img)\n",
        "        else:\n",
        "            torch.tensor(img).permute((2,0,1))\n",
        " \n",
        "        return (img, label)"
      ],
      "metadata": {
        "id": "Di25hBPNIhCu"
      },
      "execution_count": 3,
      "outputs": []
    },
    {
      "cell_type": "markdown",
      "source": [
        "# -- Classes used in Training part "
      ],
      "metadata": {
        "id": "8OLbXaeKrw-h"
      }
    },
    {
      "cell_type": "markdown",
      "source": [
        "## 02 Net Class"
      ],
      "metadata": {
        "id": "FaCeffXVE08o"
      }
    },
    {
      "cell_type": "code",
      "source": [
        "import torch.nn as nn\n",
        "import torch.nn.functional as F\n",
        "from torch.nn.modules.pooling import MaxPool2d"
      ],
      "metadata": {
        "id": "3RVK-INBE38K"
      },
      "execution_count": 6,
      "outputs": []
    },
    {
      "cell_type": "code",
      "source": [
        "class Net(nn.Module):\n",
        "    def __init__(self, bn=False):\n",
        "        super().__init__()\n",
        "        self.bn = bn\n",
        "\n",
        "        self.conv1 = nn.Conv2d(1,10,5)\n",
        "        self.conv2 = nn.Conv2d(10,20,5)\n",
        "\n",
        "        self.pool = MaxPool2d(2,2)\n",
        "\n",
        "        self.fc1 = nn.Linear(20*4*4, 100)\n",
        "        self.fc2 = nn.Linear(100,10)\n",
        "\n",
        "        #batch normalization\n",
        "        self.bn1 = nn.BatchNorm2d(10)\n",
        "        self.bn2 = nn.BatchNorm2d(20)\n",
        "\n",
        "    def forward(self,x):\n",
        "        if self.bn == True:\n",
        "            x = self.pool(F.relu(self.bn1(self.conv1(x))))\n",
        "            x = self.pool(F.relu(self.bn2(self.conv2(x))))\n",
        "        else:\n",
        "            x = self.pool(F.relu(self.conv1(x)))\n",
        "            x = self.pool(F.relu(self.conv2(x)))\n",
        "        x = x.view(x.size(0), -1) #flat\n",
        "        x = F.relu(self.fc1(x))\n",
        "        x = F.relu(self.fc2(x))\n",
        "        return x"
      ],
      "metadata": {
        "id": "J-bU8HVJK36v"
      },
      "execution_count": 4,
      "outputs": []
    },
    {
      "cell_type": "markdown",
      "source": [
        "## 03 Trainer Class"
      ],
      "metadata": {
        "id": "qW230LXrFvGo"
      }
    },
    {
      "cell_type": "code",
      "source": [
        "class Trainer:\n",
        "    def __init__(self, fname, trainloader, testloader, epochs, net, bundle=100):\n",
        "        self.fname = fname \n",
        "\n",
        "        self.trainloader = trainloader\n",
        "        self.testloader = testloader\n",
        "\n",
        "        self.net = net\n",
        "\n",
        "        self.epochs = epochs\n",
        "        self.criterian = nn.CrossEntropyLoss()\n",
        "        self.optimizer = optim.SGD(self.net.parameters(), lr=0.001, momentum= 0.9)\n",
        "\n",
        "        self.process_txt = ''\n",
        "\n",
        "        self.bundle = bundle\n",
        "\n",
        "        self.process()\n",
        "\n",
        "    def train(self, dataloader, model, criterian, optimizer, t):\n",
        "\n",
        "        start = time.time()\n",
        "\n",
        "        running_loss = 0.0\n",
        "\n",
        "        for batch, data in enumerate(dataloader, 1):\n",
        "            inputs, labels = data\n",
        "\n",
        "            optimizer.zero_grad()\n",
        "\n",
        "            outputs  = model(inputs)\n",
        "            loss = criterian(outputs, labels)\n",
        "            loss.backward()\n",
        "            optimizer.step()\n",
        "\n",
        "            running_loss += loss.item()\n",
        "\n",
        "            if batch % self.bundle == 0:\n",
        "                txt = f\"[{t+1}, {batch}] loss: {running_loss /2000:.3f} --------------- {time.time()-start:.3f}\\n\"\n",
        "                self.process_txt += txt\n",
        "                print(txt)\n",
        "                running_loss = 0.0  \n",
        "\n",
        "    def test(self, dataloader, model, loss_fn):\n",
        "        size = len(dataloader.dataset)\n",
        "        num_batches = len(dataloader)\n",
        "        model.eval()\n",
        "        test_loss, correct = 0.0, 0.0\n",
        "        with torch.no_grad():\n",
        "            for inputs, labels in dataloader:\n",
        "                pred = model(inputs)\n",
        "                test_loss += loss_fn(pred, labels).item()\n",
        "                correct += (pred.argmax(1) == labels).type(torch.float).sum().item()\n",
        "\n",
        "            test_loss /= num_batches\n",
        "            correct /= size\n",
        "            txt = f\"Test Error : \\n Accuracy : {(100*correct):>0.1f}%, Avg loss: {test_loss:>8f} \\n\"\n",
        "            self.process_txt += txt\n",
        "            print(txt)\n",
        "\n",
        "        self.correct = correct\n",
        "        self.output_fname = f'{self.fname}_{(100*self.correct):>0.1f}%'\n",
        "   \n",
        "    def process(self):\n",
        "        self.process_txt += f'Epochs : {self.epochs}\\n'\n",
        "\n",
        "        for t in range(self.epochs):\n",
        "            txt = f\"Epochs {t+1}\\n-------------------------------\\n\"\n",
        "            self.process_txt += txt\n",
        "            print(txt)\n",
        "            self.train(self.trainloader, self.net, self.criterian, self.optimizer,t)\n",
        "            self.test(self.testloader, self.net, self.criterian)\n",
        "        print('Done!')"
      ],
      "metadata": {
        "id": "LvPDcN5WWmIA"
      },
      "execution_count": 5,
      "outputs": []
    },
    {
      "cell_type": "markdown",
      "source": [
        "## 04 SaveModel Class"
      ],
      "metadata": {
        "id": "PFpyRJmvI7FM"
      }
    },
    {
      "cell_type": "code",
      "source": [
        "class SaveModel:\n",
        "    def __init__(self, output_fname, net, process_txt=None):\n",
        "        self.output_fname = output_fname\n",
        "        self.net = net\n",
        "        self.process_txt = process_txt\n",
        "\n",
        "        self.save_process()\n",
        "        self.save_state()\n",
        "        self.save_model()\n",
        "\n",
        "    def save_process(self):\n",
        "        fname = f'{self.output_fname}_process.txt'\n",
        "        url = '/content/drive/MyDrive/MNISTandCustom/trained_model/process/'+fname\n",
        "        f = open(url, 'w')\n",
        "        f.write(self.process_txt)\n",
        "        f.close()\n",
        "\n",
        "    def save_state(self):\n",
        "        fname = f'{self.output_fname}.pth'\n",
        "        torch.save(self.net.state_dict(),'/content/drive/MyDrive/MNISTandCustom/trained_model/state/'+fname)\n",
        "        print(f\"Saved PyTorch Model State to '{fname}'\")\n",
        "\n",
        "    def save_model(self):\n",
        "        fname = f'{self.output_fname}.pt'        \n",
        "        torch.save(self.net, '/content/drive/MyDrive/MNISTandCustom/trained_model/model/'+fname)\n",
        "        print(f\"saved PyTorch Model to '{fname}'\")"
      ],
      "metadata": {
        "id": "W8P314y-YKi4"
      },
      "execution_count": 6,
      "outputs": []
    },
    {
      "cell_type": "markdown",
      "source": [
        "# -- Classes used in Testing part"
      ],
      "metadata": {
        "id": "lO5CQHXljtzx"
      }
    },
    {
      "cell_type": "markdown",
      "source": [
        "## 05 TestModel Class"
      ],
      "metadata": {
        "id": "1rLOfd1Ejp4I"
      }
    },
    {
      "cell_type": "markdown",
      "source": [
        "두 개 중에 뭐가 더 나은 방법론인지"
      ],
      "metadata": {
        "id": "51r2UBF5z241"
      }
    },
    {
      "cell_type": "code",
      "source": [
        "def load_pretrainedModel(file_location, net):\n",
        "    loaded_state = torch.load(file_location)\n",
        "    pretrained_model = net\n",
        "    pretrained_model.load_state_dict(loaded_state)\n",
        "    return pretrained_model"
      ],
      "metadata": {
        "id": "2YWkxAXbxFUY"
      },
      "execution_count": null,
      "outputs": []
    },
    {
      "cell_type": "code",
      "source": [
        "#ver1 pretrained model은 따로 함수로 이용\n",
        "\n",
        "class TestModel:\n",
        "    def __init__(self,dataloader,net):\n",
        "        self.dataIter = iter(dataloader)\n",
        "        self.net = net\n",
        "    \n",
        "    def eval_testdata(self):\n",
        "        self.data_arr, label_arr = next(self.dataIter)\n",
        "        self.net.eval()\n",
        "        pred_arr = self.net(self.data_arr).argmax(1)\n",
        "        self.pred_arr = np.array(pred_arr)\n",
        "        self.label_arr = np.array(label_arr)\n",
        "\n",
        "        self.df = pd.DataFrame({'pred': self.pred_arr, 'label': self.label_arr})\n",
        "        return self.df\n",
        "\n",
        "    def show_percentage(self):\n",
        "        is_right = self.df['pred'] == self.df['label']\n",
        "        return sum(is_right) / len(is_right)"
      ],
      "metadata": {
        "id": "DcFVKvlnjoI8"
      },
      "execution_count": 8,
      "outputs": []
    },
    {
      "cell_type": "code",
      "source": [
        "#ver2 pretrained model이 같이 들어있는 클래스\n",
        "\n",
        "class TestModel:\n",
        "    def __init__(self,dataloader,net,net_location=None):\n",
        "        self.dataIter = iter(dataloader)\n",
        "        self.net = net\n",
        "        if net_location:\n",
        "            self.load_pretrainedModel(net_location)\n",
        "\n",
        "    def load_pretrainedModel(self, net_location):\n",
        "        loaded_state = torch.load(net_location)\n",
        "        self.net.load_state_dict(loaded_state)\n",
        "    \n",
        "    def eval_testdata(self):\n",
        "        self.data_arr, label_arr = next(self.dataIter)\n",
        "        self.net.eval()\n",
        "        pred_arr = self.net(self.data_arr).argmax(1)\n",
        "        self.pred_arr = np.array(pred_arr)\n",
        "        self.label_arr = np.array(label_arr)\n",
        "\n",
        "        self.df = pd.DataFrame({'pred': self.pred_arr, 'label': self.label_arr})\n",
        "        return self.df\n",
        "\n",
        "    def show_percentage(self):\n",
        "        is_right = self.df['pred'] == self.df['label']\n",
        "        return sum(is_right) / len(is_right)"
      ],
      "metadata": {
        "id": "vy9aZBx4yGHv"
      },
      "execution_count": 73,
      "outputs": []
    },
    {
      "cell_type": "markdown",
      "source": [
        "# *02.* Check Images"
      ],
      "metadata": {
        "id": "jxkvg7um0NzI"
      }
    },
    {
      "cell_type": "markdown",
      "source": [
        "## 01 images datasets"
      ],
      "metadata": {
        "id": "nnDQGAZb2Taw"
      }
    },
    {
      "cell_type": "markdown",
      "source": [
        "- transform off"
      ],
      "metadata": {
        "id": "Ko9TcMCU0y_L"
      }
    },
    {
      "cell_type": "code",
      "source": [
        "MNIST_trainset = torchvision.datasets.MNIST(root='./data', train=True, download=True) \n",
        "collected_trainset = CollectedDataset(collected_url = '/content/drive/MyDrive/MNISTandCustom/datafile/collected_data/') \n",
        "txpanded_trainset = CollectedDataset(augmentated_url = '/content/drive/MyDrive/MNISTandCustom/datafile/txpand/')\n",
        "expanded_trainset = CollectedDataset(augmentated_url = '/content/drive/MyDrive/MNISTandCustom/datafile/expand/')\n",
        "turn_trainset = CollectedDataset(augmentated_url = '/content/drive/MyDrive/MNISTandCustom/datafile/turn/')"
      ],
      "metadata": {
        "colab": {
          "base_uri": "https://localhost:8080/"
        },
        "id": "A6brCQAI0T3M",
        "outputId": "dd5f4ce5-6e70-4806-b508-96f4ca0ed998"
      },
      "execution_count": 12,
      "outputs": [
        {
          "output_type": "stream",
          "name": "stdout",
          "text": [
            "Downloading http://yann.lecun.com/exdb/mnist/train-images-idx3-ubyte.gz\n",
            "Downloading http://yann.lecun.com/exdb/mnist/train-images-idx3-ubyte.gz to ./data/MNIST/raw/train-images-idx3-ubyte.gz\n"
          ]
        },
        {
          "output_type": "stream",
          "name": "stderr",
          "text": [
            "100%|██████████| 9912422/9912422 [00:00<00:00, 88219079.28it/s]\n"
          ]
        },
        {
          "output_type": "stream",
          "name": "stdout",
          "text": [
            "Extracting ./data/MNIST/raw/train-images-idx3-ubyte.gz to ./data/MNIST/raw\n",
            "\n",
            "Downloading http://yann.lecun.com/exdb/mnist/train-labels-idx1-ubyte.gz\n",
            "Downloading http://yann.lecun.com/exdb/mnist/train-labels-idx1-ubyte.gz to ./data/MNIST/raw/train-labels-idx1-ubyte.gz\n"
          ]
        },
        {
          "output_type": "stream",
          "name": "stderr",
          "text": [
            "100%|██████████| 28881/28881 [00:00<00:00, 33370714.55it/s]"
          ]
        },
        {
          "output_type": "stream",
          "name": "stdout",
          "text": [
            "Extracting ./data/MNIST/raw/train-labels-idx1-ubyte.gz to ./data/MNIST/raw\n",
            "\n",
            "Downloading http://yann.lecun.com/exdb/mnist/t10k-images-idx3-ubyte.gz\n"
          ]
        },
        {
          "output_type": "stream",
          "name": "stderr",
          "text": [
            "\n"
          ]
        },
        {
          "output_type": "stream",
          "name": "stdout",
          "text": [
            "Downloading http://yann.lecun.com/exdb/mnist/t10k-images-idx3-ubyte.gz to ./data/MNIST/raw/t10k-images-idx3-ubyte.gz\n"
          ]
        },
        {
          "output_type": "stream",
          "name": "stderr",
          "text": [
            "100%|██████████| 1648877/1648877 [00:00<00:00, 20942586.85it/s]"
          ]
        },
        {
          "output_type": "stream",
          "name": "stdout",
          "text": [
            "Extracting ./data/MNIST/raw/t10k-images-idx3-ubyte.gz to ./data/MNIST/raw\n"
          ]
        },
        {
          "output_type": "stream",
          "name": "stderr",
          "text": [
            "\n"
          ]
        },
        {
          "output_type": "stream",
          "name": "stdout",
          "text": [
            "\n",
            "Downloading http://yann.lecun.com/exdb/mnist/t10k-labels-idx1-ubyte.gz\n",
            "Downloading http://yann.lecun.com/exdb/mnist/t10k-labels-idx1-ubyte.gz to ./data/MNIST/raw/t10k-labels-idx1-ubyte.gz\n"
          ]
        },
        {
          "output_type": "stream",
          "name": "stderr",
          "text": [
            "100%|██████████| 4542/4542 [00:00<00:00, 5824068.72it/s]\n"
          ]
        },
        {
          "output_type": "stream",
          "name": "stdout",
          "text": [
            "Extracting ./data/MNIST/raw/t10k-labels-idx1-ubyte.gz to ./data/MNIST/raw\n",
            "\n"
          ]
        }
      ]
    },
    {
      "cell_type": "markdown",
      "source": [
        "- transform on"
      ],
      "metadata": {
        "id": "I0o8keuz09HS"
      }
    },
    {
      "cell_type": "code",
      "source": [
        "MNIST_trainset_tf = torchvision.datasets.MNIST(root='./data', train=True, download=True, transform= transforms.ToTensor()) \n",
        "\n",
        "collected_trainset_tf = CollectedDataset(collected_url = '/content/drive/MyDrive/MNISTandCustom/datafile/collected_data/',\n",
        "                                      transform=transforms.ToTensor()) \n",
        "txpanded_trainset_tf = CollectedDataset(augmentated_url = '/content/drive/MyDrive/MNISTandCustom/datafile/txpand/',\n",
        "                                     transform=transforms.ToTensor())\n",
        "expanded_trainset_tf = CollectedDataset(augmentated_url = '/content/drive/MyDrive/MNISTandCustom/datafile/expand/',\n",
        "                                     transform=transforms.ToTensor())\n",
        "turn_trainset_tf = CollectedDataset(augmentated_url = '/content/drive/MyDrive/MNISTandCustom/datafile/turn/',\n",
        "                                 transform=transforms.ToTensor())"
      ],
      "metadata": {
        "id": "g3cOlFHW0_0C"
      },
      "execution_count": 13,
      "outputs": []
    },
    {
      "cell_type": "markdown",
      "source": [
        "## 02 print_images function, batch=4"
      ],
      "metadata": {
        "id": "qtLXkoYg2YIE"
      }
    },
    {
      "cell_type": "code",
      "source": [
        "def print_images(dataset,transform=False):\n",
        "    fig, axs = plt.subplots(nrows=1, ncols=4)\n",
        "    labels = []\n",
        "    for i in range(4):\n",
        "        img, label = dataset[random.randint(0,len(dataset))]\n",
        "        if type(img) == PIL.Image.Image:\n",
        "            img = np.array(img)\n",
        "            img = np.expand_dims(img, axis=2) \n",
        "\n",
        "        if transform == False:\n",
        "            img = torch.tensor(img).permute((2,0,1))\n",
        "        axs[i].imshow(torchvision.utils.make_grid(img).permute(1,2,0))\n",
        "        axs[i].set_title(label)\n",
        "        labels.append(label)\n",
        "    plt.show()\n",
        "    "
      ],
      "metadata": {
        "id": "li4oX0Jj1Mhz"
      },
      "execution_count": 9,
      "outputs": []
    },
    {
      "cell_type": "markdown",
      "source": [
        "## 03 cases"
      ],
      "metadata": {
        "id": "ZJcrKuLB2fDR"
      }
    },
    {
      "cell_type": "markdown",
      "source": [
        "### transform=False"
      ],
      "metadata": {
        "id": "bD8qHzkl2yVB"
      }
    },
    {
      "cell_type": "markdown",
      "source": [
        "- 한 번에 출력되는 코드"
      ],
      "metadata": {
        "id": "mKkB4ncrcpsA"
      }
    },
    {
      "cell_type": "code",
      "source": [
        "print('MNIST_trainset\\n')\n",
        "print_images(MNIST_trainset,transform=False)\n",
        "print('\\ncollected_trainset\\n')\n",
        "print_images(collected_trainset,transform=False)\n",
        "print('\\nexpanded_trainset\\n')\n",
        "print_images(expanded_trainset,transform=False)\n",
        "print('\\ntxpanded_trainset\\n')\n",
        "print_images(txpanded_trainset,transform=False)\n",
        "print('\\nturn_trainset\\n')\n",
        "print_images(turn_trainset,transform=False)"
      ],
      "metadata": {
        "colab": {
          "base_uri": "https://localhost:8080/",
          "height": 1000
        },
        "id": "Fx0vTgPSB1-A",
        "outputId": "8aa6fce7-2b00-4804-ab5f-5e1a7e088c2f"
      },
      "execution_count": 13,
      "outputs": [
        {
          "output_type": "stream",
          "name": "stdout",
          "text": [
            "MNIST_trainset\n",
            "\n"
          ]
        },
        {
          "output_type": "display_data",
          "data": {
            "text/plain": [
              "<Figure size 640x480 with 4 Axes>"
            ],
            "image/png": "[encoded data removed]"
          },
          "metadata": {}
        },
        {
          "output_type": "stream",
          "name": "stdout",
          "text": [
            "\n",
            "collected_trainset\n",
            "\n"
          ]
        },
        {
          "output_type": "display_data",
          "data": {
            "text/plain": [
              "<Figure size 640x480 with 4 Axes>"
            ],
            "image/png": "[encoded data removed]"
          },
          "metadata": {}
        },
        {
          "output_type": "stream",
          "name": "stdout",
          "text": [
            "\n",
            "expanded_trainset\n",
            "\n"
          ]
        },
        {
          "output_type": "display_data",
          "data": {
            "text/plain": [
              "<Figure size 640x480 with 4 Axes>"
            ],
            "image/png": "[encoded data removed]"
          },
          "metadata": {}
        },
        {
          "output_type": "stream",
          "name": "stdout",
          "text": [
            "\n",
            "txpanded_trainset\n",
            "\n"
          ]
        },
        {
          "output_type": "display_data",
          "data": {
            "text/plain": [
              "<Figure size 640x480 with 4 Axes>"
            ],
            "image/png": "[encoded data removed]"
          },
          "metadata": {}
        },
        {
          "output_type": "stream",
          "name": "stdout",
          "text": [
            "\n",
            "turn_trainset\n",
            "\n"
          ]
        },
        {
          "output_type": "display_data",
          "data": {
            "text/plain": [
              "<Figure size 640x480 with 4 Axes>"
            ],
            "image/png": "[encoded data removed]"
          },
          "metadata": {}
        }
      ]
    },
    {
      "cell_type": "markdown",
      "source": [
        "- 개별 출력 코드"
      ],
      "metadata": {
        "id": "Q2xEf4CHctoU"
      }
    },
    {
      "cell_type": "code",
      "source": [
        "print_images(collected_trainset,transform=False)"
      ],
      "metadata": {
        "id": "5Mp1oABl1wkM"
      },
      "execution_count": null,
      "outputs": []
    },
    {
      "cell_type": "code",
      "source": [
        "print_images(expanded_trainset,transform=False)"
      ],
      "metadata": {
        "colab": {
          "base_uri": "https://localhost:8080/",
          "height": 190
        },
        "id": "7jnfy2fC17Sw",
        "outputId": "c7e1daa4-1c01-447d-8400-b7623478114a"
      },
      "execution_count": 20,
      "outputs": [
        {
          "output_type": "display_data",
          "data": {
            "text/plain": [
              "<Figure size 640x480 with 4 Axes>"
            ],
            "image/png": "[encoded data removed]"
          },
          "metadata": {}
        },
        {
          "output_type": "stream",
          "name": "stdout",
          "text": [
            "[7, 1, 7, 9]\n"
          ]
        }
      ]
    },
    {
      "cell_type": "code",
      "source": [
        "print_images(txpanded_trainset,transform=False)"
      ],
      "metadata": {
        "colab": {
          "base_uri": "https://localhost:8080/",
          "height": 190
        },
        "id": "DTOQFHX82CAc",
        "outputId": "aeef7c50-9d42-40a2-d43e-b3be51816980"
      },
      "execution_count": 19,
      "outputs": [
        {
          "output_type": "display_data",
          "data": {
            "text/plain": [
              "<Figure size 640x480 with 4 Axes>"
            ],
            "image/png": "[encoded data removed]"
          },
          "metadata": {}
        }
      ]
    },
    {
      "cell_type": "code",
      "source": [
        "print_images(turn_trainset,transform=False)"
      ],
      "metadata": {
        "colab": {
          "base_uri": "https://localhost:8080/",
          "height": 190
        },
        "id": "BgfE4qW02G2D",
        "outputId": "9c080b01-126b-4b10-9198-cf32fda88118"
      },
      "execution_count": 50,
      "outputs": [
        {
          "output_type": "display_data",
          "data": {
            "text/plain": [
              "<Figure size 640x480 with 4 Axes>"
            ],
            "image/png": "[encoded data removed]"
          },
          "metadata": {}
        },
        {
          "output_type": "stream",
          "name": "stdout",
          "text": [
            "[5, 9, 8, 1]\n"
          ]
        }
      ]
    },
    {
      "cell_type": "markdown",
      "source": [
        "### transform=True"
      ],
      "metadata": {
        "id": "Iih55hQj23Uz"
      }
    },
    {
      "cell_type": "code",
      "source": [
        "print_images(MNIST_trainset_tf,transform=True)"
      ],
      "metadata": {
        "colab": {
          "base_uri": "https://localhost:8080/",
          "height": 190
        },
        "id": "e0e-NZ7sB6NJ",
        "outputId": "3148b1e5-c4e0-4f78-db4d-4e2e3252b2d1"
      },
      "execution_count": 45,
      "outputs": [
        {
          "output_type": "display_data",
          "data": {
            "text/plain": [
              "<Figure size 640x480 with 4 Axes>"
            ],
            "image/png": "[encoded data removed]"
          },
          "metadata": {}
        },
        {
          "output_type": "stream",
          "name": "stdout",
          "text": [
            "[3, 4, 0, 1]\n"
          ]
        }
      ]
    },
    {
      "cell_type": "code",
      "source": [
        "print_images(collected_trainset_tf,transform=True)"
      ],
      "metadata": {
        "colab": {
          "base_uri": "https://localhost:8080/",
          "height": 190
        },
        "id": "kwy8NSaI287p",
        "outputId": "c37dad2d-d105-4cf5-e713-11f767ac1630"
      },
      "execution_count": 215,
      "outputs": [
        {
          "output_type": "display_data",
          "data": {
            "text/plain": [
              "<Figure size 640x480 with 4 Axes>"
            ],
            "image/png": "[encoded data removed]"
          },
          "metadata": {}
        },
        {
          "output_type": "stream",
          "name": "stdout",
          "text": [
            "[9, 4, 6, 5]\n"
          ]
        }
      ]
    },
    {
      "cell_type": "code",
      "source": [
        "print_images(expanded_trainset_tf,transform=True)"
      ],
      "metadata": {
        "colab": {
          "base_uri": "https://localhost:8080/",
          "height": 190
        },
        "id": "Cxm_txhA3Jpj",
        "outputId": "a9d89d3e-ef98-4ada-bb53-b34be2b5b0e1"
      },
      "execution_count": 202,
      "outputs": [
        {
          "output_type": "display_data",
          "data": {
            "text/plain": [
              "<Figure size 640x480 with 4 Axes>"
            ],
            "image/png": "[encoded data removed]"
          },
          "metadata": {}
        },
        {
          "output_type": "stream",
          "name": "stdout",
          "text": [
            "[4, 8, 1, 0]\n"
          ]
        }
      ]
    },
    {
      "cell_type": "code",
      "source": [
        "print_images(txpanded_trainset_tf,transform=True)"
      ],
      "metadata": {
        "colab": {
          "base_uri": "https://localhost:8080/",
          "height": 190
        },
        "id": "tDy68Fv93ZiP",
        "outputId": "4ed82d69-f768-44a2-e166-ea58eb30c4e0"
      },
      "execution_count": 48,
      "outputs": [
        {
          "output_type": "display_data",
          "data": {
            "text/plain": [
              "<Figure size 640x480 with 4 Axes>"
            ],
            "image/png": "[encoded data removed]"
          },
          "metadata": {}
        },
        {
          "output_type": "stream",
          "name": "stdout",
          "text": [
            "[1, 6, 4, 0]\n"
          ]
        }
      ]
    },
    {
      "cell_type": "code",
      "source": [
        "print_images(turn_trainset_tf,transform=True)"
      ],
      "metadata": {
        "colab": {
          "base_uri": "https://localhost:8080/",
          "height": 190
        },
        "id": "PG_Pb2vk3ciV",
        "outputId": "ff6f12da-3765-4eb5-b2dc-56485f3588a1"
      },
      "execution_count": 47,
      "outputs": [
        {
          "output_type": "display_data",
          "data": {
            "text/plain": [
              "<Figure size 640x480 with 4 Axes>"
            ],
            "image/png": "[encoded data removed]"
          },
          "metadata": {}
        },
        {
          "output_type": "stream",
          "name": "stdout",
          "text": [
            "[4, 6, 7, 4]\n"
          ]
        }
      ]
    },
    {
      "cell_type": "markdown",
      "source": [
        "# *03.* Execute"
      ],
      "metadata": {
        "id": "vXlUWZJbJCg_"
      }
    },
    {
      "cell_type": "markdown",
      "source": [
        "## 01 TrainSet / VaildSet / TestSet"
      ],
      "metadata": {
        "id": "YPT0IpmGKtuG"
      }
    },
    {
      "cell_type": "markdown",
      "source": [
        "### 1 Total Data Set"
      ],
      "metadata": {
        "id": "EY61X2jaLbHF"
      }
    },
    {
      "cell_type": "code",
      "source": [
        "# Type of Data\n",
        "# 1. MNIST 2. collected 3. augmented ( 3-1. txpanded 3-2. expanded 3-3. turn )\n",
        "\n",
        "MNIST_dataset = torchvision.datasets.MNIST(root='./data', train=True, download=True, transform= transforms.ToTensor()) \n",
        "\n",
        "collected_dataset = CollectedDataset(collected_url = '/content/drive/MyDrive/MNISTandCustom/datafile/collected_data/',\n",
        "                                      transform=transforms.ToTensor()) \n",
        "txpanded_dataset = CollectedDataset(augmentated_url = '/content/drive/MyDrive/MNISTandCustom/datafile/txpand/',\n",
        "                                     transform=transforms.ToTensor())\n",
        "expanded_dataset = CollectedDataset(augmentated_url = '/content/drive/MyDrive/MNISTandCustom/datafile/expand/',\n",
        "                                     transform=transforms.ToTensor())\n",
        "turn_dataset = CollectedDataset(augmentated_url = '/content/drive/MyDrive/MNISTandCustom/datafile/turn/',\n",
        "                                 transform=transforms.ToTensor())"
      ],
      "metadata": {
        "colab": {
          "base_uri": "https://localhost:8080/"
        },
        "id": "CnBeicnFuE0Q",
        "outputId": "3967b6d5-e18c-44e2-ccb1-4ab20fc2233c"
      },
      "execution_count": 9,
      "outputs": [
        {
          "output_type": "stream",
          "name": "stdout",
          "text": [
            "Downloading http://yann.lecun.com/exdb/mnist/train-images-idx3-ubyte.gz\n",
            "Downloading http://yann.lecun.com/exdb/mnist/train-images-idx3-ubyte.gz to ./data/MNIST/raw/train-images-idx3-ubyte.gz\n"
          ]
        },
        {
          "output_type": "stream",
          "name": "stderr",
          "text": [
            "100%|██████████| 9912422/9912422 [00:00<00:00, 70710479.33it/s]\n"
          ]
        },
        {
          "output_type": "stream",
          "name": "stdout",
          "text": [
            "Extracting ./data/MNIST/raw/train-images-idx3-ubyte.gz to ./data/MNIST/raw\n",
            "\n",
            "Downloading http://yann.lecun.com/exdb/mnist/train-labels-idx1-ubyte.gz\n",
            "Downloading http://yann.lecun.com/exdb/mnist/train-labels-idx1-ubyte.gz to ./data/MNIST/raw/train-labels-idx1-ubyte.gz\n"
          ]
        },
        {
          "output_type": "stream",
          "name": "stderr",
          "text": [
            "100%|██████████| 28881/28881 [00:00<00:00, 58294366.61it/s]\n"
          ]
        },
        {
          "output_type": "stream",
          "name": "stdout",
          "text": [
            "Extracting ./data/MNIST/raw/train-labels-idx1-ubyte.gz to ./data/MNIST/raw\n",
            "\n",
            "Downloading http://yann.lecun.com/exdb/mnist/t10k-images-idx3-ubyte.gz\n",
            "Downloading http://yann.lecun.com/exdb/mnist/t10k-images-idx3-ubyte.gz to ./data/MNIST/raw/t10k-images-idx3-ubyte.gz\n"
          ]
        },
        {
          "output_type": "stream",
          "name": "stderr",
          "text": [
            "100%|██████████| 1648877/1648877 [00:00<00:00, 25425697.40it/s]\n"
          ]
        },
        {
          "output_type": "stream",
          "name": "stdout",
          "text": [
            "Extracting ./data/MNIST/raw/t10k-images-idx3-ubyte.gz to ./data/MNIST/raw\n",
            "\n",
            "Downloading http://yann.lecun.com/exdb/mnist/t10k-labels-idx1-ubyte.gz\n",
            "Downloading http://yann.lecun.com/exdb/mnist/t10k-labels-idx1-ubyte.gz to ./data/MNIST/raw/t10k-labels-idx1-ubyte.gz\n"
          ]
        },
        {
          "output_type": "stream",
          "name": "stderr",
          "text": [
            "100%|██████████| 4542/4542 [00:00<00:00, 11387046.48it/s]\n"
          ]
        },
        {
          "output_type": "stream",
          "name": "stdout",
          "text": [
            "Extracting ./data/MNIST/raw/t10k-labels-idx1-ubyte.gz to ./data/MNIST/raw\n",
            "\n"
          ]
        }
      ]
    },
    {
      "cell_type": "code",
      "source": [
        "# Check for len\n",
        "\n",
        "print(f'len of MNIST dataset : {len(MNIST_dataset)}')\n",
        "print(f'len of collected dataset : {len(collected_dataset)}')\n",
        "print(f'len of txpanded dataset : {len(txpanded_dataset)}')\n",
        "print(f'len of expanded dataset : {len(expanded_dataset)}')\n",
        "print(f'len of turn dataset : {len(turn_dataset)}')"
      ],
      "metadata": {
        "colab": {
          "base_uri": "https://localhost:8080/"
        },
        "id": "CBM-zj-5uwZE",
        "outputId": "886b9297-de48-48ca-81c5-b72395632efd"
      },
      "execution_count": 10,
      "outputs": [
        {
          "output_type": "stream",
          "name": "stdout",
          "text": [
            "len of MNIST dataset : 60000\n",
            "len of collected dataset : 487\n",
            "len of txpanded dataset : 7792\n",
            "len of expanded dataset : 487\n",
            "len of turn dataset : 7792\n"
          ]
        }
      ]
    },
    {
      "cell_type": "markdown",
      "source": [
        "이거 판다스로 정리해두자"
      ],
      "metadata": {
        "id": "F2rHPPcW3Itr"
      }
    },
    {
      "cell_type": "markdown",
      "source": [
        "### 2 Select DataSet"
      ],
      "metadata": {
        "id": "bJANFRxhvLd7"
      }
    },
    {
      "cell_type": "code",
      "source": [
        "dataSet = collected_dataset + txpanded_dataset + expanded_dataset + turn_dataset"
      ],
      "metadata": {
        "id": "sL3kWEwgvQMT"
      },
      "execution_count": 11,
      "outputs": []
    },
    {
      "cell_type": "markdown",
      "source": [
        "### 3 Spilt to 3 sets\n"
      ],
      "metadata": {
        "id": "pnD_ah6ML3_L"
      }
    },
    {
      "cell_type": "markdown",
      "source": [
        "To make it easier to chage the ratio, I'll turn it into a function.\n",
        "- 6:2:2\n",
        "- 8:1:1"
      ],
      "metadata": {
        "id": "SQaRDgRazMCI"
      }
    },
    {
      "cell_type": "code",
      "source": [
        "def spilt_data(dataset, train_per, vaild_per, test_per):\n",
        "    train_size = int(len(dataset) * train_per)\n",
        "    vaild_size = int(len(dataset) * vaild_per)\n",
        "    test_size = len(dataset) - train_size - vaild_size\n",
        "    return [train_size, vaild_size, test_size]"
      ],
      "metadata": {
        "id": "li9nlH7PwCV9"
      },
      "execution_count": 12,
      "outputs": []
    },
    {
      "cell_type": "markdown",
      "source": [
        "split"
      ],
      "metadata": {
        "id": "7z7nORIwzb6R"
      }
    },
    {
      "cell_type": "code",
      "source": [
        "sizeList = spilt_data(dataSet, train_per=0.8, vaild_per = 0.1, test_per = 0.1)\n",
        "trainSet, vaildSet, testSet = random_split(dataSet, sizeList)"
      ],
      "metadata": {
        "id": "GiXDsDrTxRyQ"
      },
      "execution_count": 13,
      "outputs": []
    },
    {
      "cell_type": "code",
      "source": [
        "# Check for len\n",
        "print(f'len of dataset : {len(dataSet)}')\n",
        "print(f'len of trainset : {len(trainSet)}')\n",
        "print(f'len of vaildset : {len(vaildSet)}')\n",
        "print(f'len of testset : {len(testSet)}')"
      ],
      "metadata": {
        "id": "zO-6p_z9ubcu",
        "colab": {
          "base_uri": "https://localhost:8080/"
        },
        "outputId": "999ebe08-5809-44d5-b9eb-897500fecb18"
      },
      "execution_count": 14,
      "outputs": [
        {
          "output_type": "stream",
          "name": "stdout",
          "text": [
            "len of dataset : 16558\n",
            "len of trainset : 13246\n",
            "len of vaildset : 1655\n",
            "len of testset : 1657\n"
          ]
        }
      ]
    },
    {
      "cell_type": "markdown",
      "source": [
        "## 02 TrainLoader / VaildLoader / TestLoader"
      ],
      "metadata": {
        "id": "ONCsyy4eKzE9"
      }
    },
    {
      "cell_type": "code",
      "source": [
        "batch_size = 32\n",
        "trainLoader = torch.utils.data.DataLoader(trainSet, batch_size=batch_size, shuffle=True, num_workers=2)\n",
        "vaildLoader = torch.utils.data.DataLoader(vaildSet, batch_size=batch_size, shuffle=True, num_workers=2)\n",
        "testLoader = torch.utils.data.DataLoader(testSet, batch_size=batch_size, shuffle=True, num_workers=2)"
      ],
      "metadata": {
        "id": "aLbqTnNYLTET"
      },
      "execution_count": 15,
      "outputs": []
    },
    {
      "cell_type": "markdown",
      "source": [
        "## 03 Train "
      ],
      "metadata": {
        "id": "iXl-4IrtLsHM"
      }
    },
    {
      "cell_type": "markdown",
      "source": [
        "### 1 "
      ],
      "metadata": {
        "id": "3O_R9jVaFtTv"
      }
    },
    {
      "cell_type": "code",
      "source": [
        "bn_net = Net(bn=True)\n",
        "\n",
        "trainer = Trainer(fname='with_bn_modelCUSTOM',\n",
        "                  trainloader=trainLoader, \n",
        "                  testloader=vaildLoader,\n",
        "                  epochs=10,\n",
        "                  net=bn_net)\n",
        "\n",
        "save_model = SaveModel(output_fname = trainer.output_fname, \n",
        "                      net=trainer.net,\n",
        "                      process_txt=trainer.process_txt)"
      ],
      "metadata": {
        "colab": {
          "base_uri": "https://localhost:8080/"
        },
        "id": "XzF0l-62MEip",
        "outputId": "b39af09e-a7f3-413a-de87-c588e6b71166"
      },
      "execution_count": 68,
      "outputs": [
        {
          "output_type": "stream",
          "name": "stdout",
          "text": [
            "Epochs 1\n",
            "-------------------------------\n",
            "\n",
            "[1, 100] loss: 0.113 --------------- 1.496\n",
            "\n",
            "[1, 200] loss: 0.106 --------------- 2.877\n",
            "\n",
            "[1, 300] loss: 0.099 --------------- 4.283\n",
            "\n",
            "[1, 400] loss: 0.092 --------------- 5.664\n",
            "\n",
            "Test Error : \n",
            " Accuracy : 47.4%, Avg loss: 1.725819 \n",
            "\n",
            "Epochs 2\n",
            "-------------------------------\n",
            "\n",
            "[2, 100] loss: 0.078 --------------- 1.356\n",
            "\n",
            "[2, 200] loss: 0.063 --------------- 2.610\n",
            "\n",
            "[2, 300] loss: 0.052 --------------- 4.544\n",
            "\n",
            "[2, 400] loss: 0.047 --------------- 6.611\n",
            "\n",
            "Test Error : \n",
            " Accuracy : 69.7%, Avg loss: 0.909894 \n",
            "\n",
            "Epochs 3\n",
            "-------------------------------\n",
            "\n",
            "[3, 100] loss: 0.039 --------------- 2.864\n",
            "\n",
            "[3, 200] loss: 0.034 --------------- 4.571\n",
            "\n",
            "[3, 300] loss: 0.030 --------------- 5.875\n",
            "\n",
            "[3, 400] loss: 0.029 --------------- 7.166\n",
            "\n",
            "Test Error : \n",
            " Accuracy : 83.5%, Avg loss: 0.495905 \n",
            "\n",
            "Epochs 4\n",
            "-------------------------------\n",
            "\n",
            "[4, 100] loss: 0.022 --------------- 1.342\n",
            "\n",
            "[4, 200] loss: 0.021 --------------- 3.202\n",
            "\n",
            "[4, 300] loss: 0.020 --------------- 5.252\n",
            "\n",
            "[4, 400] loss: 0.018 --------------- 6.902\n",
            "\n",
            "Test Error : \n",
            " Accuracy : 86.9%, Avg loss: 0.387491 \n",
            "\n",
            "Epochs 5\n",
            "-------------------------------\n",
            "\n",
            "[5, 100] loss: 0.015 --------------- 1.339\n",
            "\n",
            "[5, 200] loss: 0.013 --------------- 2.627\n",
            "\n",
            "[5, 300] loss: 0.014 --------------- 3.898\n",
            "\n",
            "[5, 400] loss: 0.012 --------------- 5.167\n",
            "\n",
            "Test Error : \n",
            " Accuracy : 91.5%, Avg loss: 0.258473 \n",
            "\n",
            "Epochs 6\n",
            "-------------------------------\n",
            "\n",
            "[6, 100] loss: 0.009 --------------- 1.282\n",
            "\n",
            "[6, 200] loss: 0.010 --------------- 2.542\n",
            "\n",
            "[6, 300] loss: 0.010 --------------- 4.297\n",
            "\n",
            "[6, 400] loss: 0.009 --------------- 6.283\n",
            "\n",
            "Test Error : \n",
            " Accuracy : 93.5%, Avg loss: 0.200792 \n",
            "\n",
            "Epochs 7\n",
            "-------------------------------\n",
            "\n",
            "[7, 100] loss: 0.006 --------------- 1.492\n",
            "\n",
            "[7, 200] loss: 0.006 --------------- 2.739\n",
            "\n",
            "[7, 300] loss: 0.005 --------------- 3.983\n",
            "\n",
            "[7, 400] loss: 0.007 --------------- 5.231\n",
            "\n",
            "Test Error : \n",
            " Accuracy : 95.3%, Avg loss: 0.153340 \n",
            "\n",
            "Epochs 8\n",
            "-------------------------------\n",
            "\n",
            "[8, 100] loss: 0.005 --------------- 1.372\n",
            "\n",
            "[8, 200] loss: 0.005 --------------- 2.607\n",
            "\n",
            "[8, 300] loss: 0.004 --------------- 3.879\n",
            "\n",
            "[8, 400] loss: 0.005 --------------- 5.507\n",
            "\n",
            "Test Error : \n",
            " Accuracy : 95.7%, Avg loss: 0.122489 \n",
            "\n",
            "Epochs 9\n",
            "-------------------------------\n",
            "\n",
            "[9, 100] loss: 0.003 --------------- 2.212\n",
            "\n",
            "[9, 200] loss: 0.003 --------------- 3.519\n",
            "\n",
            "[9, 300] loss: 0.004 --------------- 4.795\n",
            "\n",
            "[9, 400] loss: 0.004 --------------- 6.043\n",
            "\n",
            "Test Error : \n",
            " Accuracy : 97.3%, Avg loss: 0.093325 \n",
            "\n",
            "Epochs 10\n",
            "-------------------------------\n",
            "\n",
            "[10, 100] loss: 0.002 --------------- 1.331\n",
            "\n",
            "[10, 200] loss: 0.002 --------------- 2.608\n",
            "\n",
            "[10, 300] loss: 0.003 --------------- 3.869\n",
            "\n",
            "[10, 400] loss: 0.003 --------------- 5.123\n",
            "\n",
            "Test Error : \n",
            " Accuracy : 96.4%, Avg loss: 0.112792 \n",
            "\n",
            "Done!\n",
            "Saved PyTorch Model State to 'with_bn_modelCUSTOM_96.4%.pth'\n",
            "saved PyTorch Model to 'with_bn_modelCUSTOM_96.4%.pt'\n"
          ]
        }
      ]
    },
    {
      "cell_type": "markdown",
      "source": [
        "# *04.* Test"
      ],
      "metadata": {
        "id": "sVxAoera6Rpo"
      }
    },
    {
      "cell_type": "markdown",
      "source": [
        "## 01 recently trained model"
      ],
      "metadata": {
        "id": "4wASfwkpjDV9"
      }
    },
    {
      "cell_type": "code",
      "source": [
        "dataiter = TestModel(dataloader=testLoader,net=trainer.net)"
      ],
      "metadata": {
        "id": "6-sy8kef5nVF"
      },
      "execution_count": 69,
      "outputs": []
    },
    {
      "cell_type": "code",
      "source": [
        "TFdf = dataiter.eval_testdata()\n",
        "\n",
        "print(f' {TFdf[:16].T}')\n",
        "print(' ')\n",
        "print(TFdf[16:].T)\n",
        "print(' ')\n",
        "print(f'accuracy : {dataiter.show_percentage()}')"
      ],
      "metadata": {
        "colab": {
          "base_uri": "https://localhost:8080/"
        },
        "id": "qS7tEjLRsF6G",
        "outputId": "c1b2b383-d239-4b11-9ed4-69b1adb3e64a"
      },
      "execution_count": 71,
      "outputs": [
        {
          "output_type": "stream",
          "name": "stdout",
          "text": [
            "        0   1   2   3   4   5   6   7   8   9   10  11  12  13  14  15\n",
            "pred    0   8   7   6   8   1   2   7   1   6   9   1   9   7   1   3\n",
            "label   0   8   7   6   7   1   2   7   1   6   9   1   9   7   1   3\n",
            " \n",
            "       16  17  18  19  20  21  22  23  24  25  26  27  28  29  30  31\n",
            "pred    5   6   9   0   8   4   4   1   8   4   7   9   6   6   2   4\n",
            "label   5   6   9   0   7   4   4   1   8   4   7   9   6   6   2   4\n",
            " \n",
            "accuracy : 0.9375\n"
          ]
        }
      ]
    },
    {
      "cell_type": "markdown",
      "source": [
        "## 02 Pretrained Model"
      ],
      "metadata": {
        "id": "BhKjK4Lp6WZF"
      }
    },
    {
      "cell_type": "markdown",
      "source": [
        "이거 왜 st = net_structure.load_state_dict(loaded_state)에서 st랑 net_structure.load_state_dict(loaded_state)랑 데이터 타입이 다른걸까"
      ],
      "metadata": {
        "id": "WDb6z6_ivjQM"
      }
    },
    {
      "cell_type": "code",
      "source": [
        "#ver2 pretrained model이 같이 들어있는 클래스\n",
        "net = Net(bn=True)\n",
        "fileUrl = '/content/drive/MyDrive/MNISTandCustom/trained_model/state/with_bn_modelCUSTOM_96.9%.pth'\n",
        "\n",
        "dataiter = TestModel(dataloader=testLoader,net=net,net_location=fileUrl)\n",
        "TFdf = dataiter.eval_testdata()\n",
        "\n",
        "print(f' {TFdf[:16].T}')\n",
        "print(' ')\n",
        "print(TFdf[16:].T)\n",
        "print(' ')\n",
        "print(f'accuracy : {dataiter.show_percentage()}')"
      ],
      "metadata": {
        "colab": {
          "base_uri": "https://localhost:8080/"
        },
        "id": "X8PSweVgyurb",
        "outputId": "8e467c1c-3455-4e9c-9a47-818775cf368a"
      },
      "execution_count": 78,
      "outputs": [
        {
          "output_type": "stream",
          "name": "stdout",
          "text": [
            "        0   1   2   3   4   5   6   7   8   9   10  11  12  13  14  15\n",
            "pred    9   4   6   2   4   7   2   8   0   6   7   7   3   1   7   9\n",
            "label   9   4   6   2   4   7   2   8   0   6   7   7   3   1   7   9\n",
            " \n",
            "       16  17  18  19  20  21  22  23  24  25  26  27  28  29  30  31\n",
            "pred    7   0   8   8   4   6   8   9   6   0   5   2   0   7   6   0\n",
            "label   7   0   8   8   4   6   8   9   6   0   5   2   0   7   6   0\n",
            " \n",
            "accuracy : 1.0\n"
          ]
        }
      ]
    }
  ]
}