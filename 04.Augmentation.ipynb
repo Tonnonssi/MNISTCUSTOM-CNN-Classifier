{
  "nbformat": 4,
  "nbformat_minor": 0,
  "metadata": {
    "colab": {
      "provenance": [],
      "authorship_tag": "ABX9TyN+mXw6R0qL+Gn0Hm6Yu5Nv",
      "include_colab_link": true
    },
    "kernelspec": {
      "name": "python3",
      "display_name": "Python 3"
    },
    "language_info": {
      "name": "python"
    },
    "accelerator": "GPU",
    "gpuClass": "standard"
  },
  "cells": [
    {
      "cell_type": "markdown",
      "metadata": {
        "id": "view-in-github",
        "colab_type": "text"
      },
      "source": [
        "<a href=\"https://colab.research.google.com/github/Tonnonssi/MNISTCUSTOM-CNN-Classifier/blob/master/04.Augmentation.ipynb\" target=\"_parent\"><img src=\"https://colab.research.google.com/assets/colab-badge.svg\" alt=\"Open In Colab\"/></a>"
      ]
    },
    {
      "cell_type": "markdown",
      "source": [
        "# 00 Import"
      ],
      "metadata": {
        "id": "Cbdr22an2sLE"
      }
    },
    {
      "cell_type": "code",
      "execution_count": null,
      "metadata": {
        "id": "_pVXmABlUwiU"
      },
      "outputs": [],
      "source": [
        "from google.colab import drive\n",
        "drive.mount('/content/drive/')"
      ]
    },
    {
      "cell_type": "code",
      "source": [
        "import os\n",
        "import numpy as np\n",
        "import pickle\n",
        "import matplotlib.pyplot as plt\n",
        "from skimage.transform import rotate\n",
        "from PIL import Image, ImageFilter"
      ],
      "metadata": {
        "id": "m_fuV20X28qv"
      },
      "execution_count": null,
      "outputs": []
    },
    {
      "cell_type": "markdown",
      "source": [
        "# 01 Classes and Functions"
      ],
      "metadata": {
        "id": "UUf8DVs0SOAu"
      }
    },
    {
      "cell_type": "markdown",
      "source": [
        "## Load data __ open_pickle function"
      ],
      "metadata": {
        "id": "fMroxiOhSS03"
      }
    },
    {
      "cell_type": "code",
      "source": [
        "def open_pickle(file_loc):\n",
        "    with open(file_loc,'rb') as f:\n",
        "        while True:\n",
        "            try:\n",
        "                data = pickle.load(f)\n",
        "            except EOFError:\n",
        "                break\n",
        "    return data"
      ],
      "metadata": {
        "id": "Wx49O51X3OqE"
      },
      "execution_count": null,
      "outputs": []
    },
    {
      "cell_type": "markdown",
      "source": [
        "## Data preprocessing __ match_dtype function"
      ],
      "metadata": {
        "id": "OYUOCi40SdlH"
      }
    },
    {
      "cell_type": "code",
      "source": [
        "def match_dtype(data):\n",
        "    img, label = data\n",
        "\n",
        "    if img.dtype == 'float64':\n",
        "        img = (img*255).astype(np.uint8)\n",
        "\n",
        "    return (img, label)"
      ],
      "metadata": {
        "id": "prb52ipgQwOW"
      },
      "execution_count": null,
      "outputs": []
    },
    {
      "cell_type": "markdown",
      "source": [
        "## Augmentation __ class ZoomAgumentor\n",
        "1. `np.where` 로 np.array인 이미지의 영역을 인식(min, max를 이용)\n",
        "2. `np.crop()`으로 이미지를 자름\n",
        "3. 이미지를 PIL.Image 타입으로 변환 후, `img.resize()` 매서드를 이용해 가로 세로 중 더 긴 부분을 28에 맞추어 확대\n",
        "4. np.array로 이미지 타입을 바꾸고, 나머지 빈 공간을 `np.pad`을 이용해 28x28로 패딩"
      ],
      "metadata": {
        "id": "q82oZBRaSyXn"
      }
    },
    {
      "cell_type": "code",
      "source": [
        "class ZoomAugmentor:\n",
        "    def __init__(self, data):\n",
        "        self.np_img, self.label = data\n",
        "\n",
        "        self.np_img = np.squeeze(self.np_img) # (1,28,28) -> (28,28)\n",
        "        self.pil_img = Image.fromarray(self.np_img)\n",
        "\n",
        "    def run(self):\n",
        "        area_box = self.find_area_box(self.np_img)\n",
        "        padded_box = self.padding(area_box=area_box)\n",
        "\n",
        "        self.cropped_img = self.pil_img.crop(box=padded_box)\n",
        "        self.zoomed_img = self.zoom_cropped_img(self.cropped_img)\n",
        "        self.np_zoomed_img = np.array(self.zoomed_img)\n",
        "\n",
        "        self.final_img = self.pad_to_28x28(self.np_zoomed_img)\n",
        "        self.final_img = np.expand_dims(self.final_img, axis=2) #(28, 28) -> (28,28,1)\n",
        "\n",
        "    def find_area_box(self, img):\n",
        "        self.location = np.where(img != 0)\n",
        "        self.upper, self.lower = min(self.location[0]), max(self.location[0])\n",
        "        self.left, self.right = min(self.location[1]), max(self.location[1])\n",
        "        return (self.left, self.upper, self.right, self.lower) # left, upper, right, lower\n",
        "\n",
        "    def padding(self, area_box):\n",
        "        left, upper, right, lower = area_box\n",
        "        if left > 1:\n",
        "            left -= 2\n",
        "        if right < 26:\n",
        "            right += 2\n",
        "        if lower < 26:\n",
        "            lower += 2\n",
        "        if upper > 1:\n",
        "            upper -= 2\n",
        "        return (left, upper, right, lower)\n",
        "\n",
        "    def zoom_cropped_img(self, img):\n",
        "        self.width, self.height = (self.right - self.left + 1), (self.lower - self.upper + 1)\n",
        "\n",
        "        if self.width > self.height:\n",
        "            width_ratio = 28 / self.width\n",
        "\n",
        "            zoomed_img = img.resize((round(width_ratio*self.width),\n",
        "                                     round(width_ratio*self.height)),\n",
        "                                     resample=Image.LANCZOS)\n",
        "        else:\n",
        "            height_ratio = 28 / self.height\n",
        "            zoomed_img = img.resize((round(height_ratio*self.width),\n",
        "                                     round(height_ratio*self.height)),\n",
        "                                     resample=Image.LANCZOS)  #BICUBIC\n",
        "        return zoomed_img\n",
        "\n",
        "    def pad_to_28x28(self, img):\n",
        "        w, h = img.shape\n",
        "        if (28-w) % 2 == 0:\n",
        "            left = right = int((28-w)/2)\n",
        "        else:\n",
        "            right = int((28 - w) // 2)\n",
        "            left = int((28 - w) // 2 + 1)\n",
        "\n",
        "        if (28-h) % 2 == 0:\n",
        "            upper = lower = int((28-h)/2)\n",
        "        else:\n",
        "            upper = int((28-h)//2)\n",
        "            lower = int((28-h)//2 + 1)\n",
        "\n",
        "        final_img = np.pad(img, ((left, right), (upper, lower)), 'constant', constant_values=0)\n",
        "\n",
        "        return final_img"
      ],
      "metadata": {
        "id": "t03o7M-KpYC8"
      },
      "execution_count": null,
      "outputs": []
    },
    {
      "cell_type": "markdown",
      "source": [
        "## Augmentation __ rotate_img function"
      ],
      "metadata": {
        "id": "RabM5qiRS93f"
      }
    },
    {
      "cell_type": "code",
      "source": [
        "def rotate_img(data):\n",
        "    imgs = []\n",
        "    img, label = data\n",
        "    img = np.squeeze(img)\n",
        "\n",
        "    for i in range(-30,31,5):\n",
        "        if i == 0:\n",
        "            pass\n",
        "        else:\n",
        "            rotated_img = rotate(img, angle=i)\n",
        "            rotated_img = (rotated_img*255).astype(np.uint8)\n",
        "            rotated_img = np.expand_dims(rotated_img,axis=2) #(28,28) -> (28,28,1)\n",
        "            imgs.append((rotated_img, label))\n",
        "\n",
        "    return imgs"
      ],
      "metadata": {
        "id": "OuZtOtJmH7-B"
      },
      "execution_count": null,
      "outputs": []
    },
    {
      "cell_type": "markdown",
      "source": [
        "## Print __ print_data function"
      ],
      "metadata": {
        "id": "MlZhLPyCTzRu"
      }
    },
    {
      "cell_type": "code",
      "source": [
        "def print_data(data):\n",
        "    for i in range(0,len(data),4):\n",
        "        fig, axs = plt.subplots(nrows=1, ncols=4)\n",
        "        for j in range(4):\n",
        "            img, label = data[i+j]\n",
        "            img = np.squeeze(img)\n",
        "            axs[j].imshow(img, cmap='gray')\n",
        "            axs[j].set_title(label)\n",
        "    plt.show()"
      ],
      "metadata": {
        "id": "kXfpZtySLd1H"
      },
      "execution_count": null,
      "outputs": []
    },
    {
      "cell_type": "markdown",
      "source": [
        "## Print __ print_bothdata function"
      ],
      "metadata": {
        "id": "xhrsYhnxT9T2"
      }
    },
    {
      "cell_type": "code",
      "source": [
        "def print_bothdata(original, zoomed):\n",
        "    for i in range(len(original)):\n",
        "        o_img, o_label = original[i]\n",
        "        z_img, z_label = zoomed[i]\n",
        "\n",
        "        o_img = np.squeeze(o_img)\n",
        "        z_img = np.squeeze(z_img)\n",
        "\n",
        "        fig, axs = plt.subplots(nrows=1, ncols=2)\n",
        "        axs[0].imshow(o_img, cmap='gray')\n",
        "        axs[0].set_title(o_label)\n",
        "        axs[1].imshow(z_img, cmap='gray')\n",
        "        axs[1].set_title(z_label)\n",
        "    plt.show()"
      ],
      "metadata": {
        "id": "Xm_MXdSNE23L"
      },
      "execution_count": null,
      "outputs": []
    },
    {
      "cell_type": "markdown",
      "source": [
        "# 02 Run"
      ],
      "metadata": {
        "id": "PykTF1dfTSo_"
      }
    },
    {
      "cell_type": "code",
      "source": [
        "print_data(original_data)"
      ],
      "metadata": {
        "id": "u4V6gst3hx_U"
      },
      "execution_count": null,
      "outputs": []
    },
    {
      "cell_type": "markdown",
      "source": [
        "## 1 | Load Data"
      ],
      "metadata": {
        "id": "GicRto8JsB1L"
      }
    },
    {
      "cell_type": "code",
      "source": [
        "preLoc = '/content/drive/MyDrive/MNISTandCustom/datafile/collected_data/'\n",
        "fnameList = os.listdir(preLoc)\n",
        "\n",
        "loaded_data = []\n",
        "for fname in fnameList:\n",
        "    loaded_data.extend(open_pickle(preLoc+fname))\n",
        "\n",
        "# original_data = np.array(loaded_data)\n",
        "original_data = np.array(loaded_data, dtype=object)\n",
        "original_data = original_data[:,(2,0)] # np.array(img, label)"
      ],
      "metadata": {
        "id": "okYq2hGFaLNu"
      },
      "execution_count": null,
      "outputs": []
    },
    {
      "cell_type": "markdown",
      "source": [
        "## 2 | Data Preprocessing"
      ],
      "metadata": {
        "id": "pkPS_YMYQkAf"
      }
    },
    {
      "cell_type": "markdown",
      "source": [
        "## check dtype"
      ],
      "metadata": {
        "id": "X1hm4FYquLRI"
      }
    },
    {
      "cell_type": "code",
      "source": [
        "for data in original_data:\n",
        "    img, label = data\n",
        "    if img.dtype == 'uint8':\n",
        "        print(img)\n",
        "        img = np.squeeze(img)\n",
        "        print(' ')\n",
        "        img_1 = (255 * img).astype(np.uint8)\n",
        "        img_1 = np.squeeze(img_1)\n",
        "        print(img_1)\n",
        "        break"
      ],
      "metadata": {
        "id": "Nb8hoGdOc2HU"
      },
      "execution_count": null,
      "outputs": []
    },
    {
      "cell_type": "code",
      "source": [
        "137*255"
      ],
      "metadata": {
        "colab": {
          "base_uri": "https://localhost:8080/"
        },
        "id": "O6S9Vt34lSzP",
        "outputId": "25f22983-70fa-4828-a770-845c12523845"
      },
      "execution_count": null,
      "outputs": [
        {
          "output_type": "execute_result",
          "data": {
            "text/plain": [
              "34935"
            ]
          },
          "metadata": {},
          "execution_count": 27
        }
      ]
    },
    {
      "cell_type": "code",
      "source": [
        "print(label)\n",
        "plt.imshow(img)\n",
        "plt.imshow(img_1)\n",
        "plt.show()"
      ],
      "metadata": {
        "colab": {
          "base_uri": "https://localhost:8080/",
          "height": 448
        },
        "id": "cc8ZzBQnkl5U",
        "outputId": "06d737a0-52c9-4f6a-eb7a-a7430cc341e7"
      },
      "execution_count": null,
      "outputs": [
        {
          "output_type": "stream",
          "name": "stdout",
          "text": [
            "4\n"
          ]
        },
        {
          "output_type": "display_data",
          "data": {
            "text/plain": [
              "<Figure size 640x480 with 1 Axes>"
            ],
            "image/png": "[encoded data removed]"
          },
          "metadata": {}
        }
      ]
    },
    {
      "cell_type": "markdown",
      "source": [
        "### match dtype"
      ],
      "metadata": {
        "id": "mD8HrN2nTiSG"
      }
    },
    {
      "cell_type": "markdown",
      "source": [
        "collected_data는 dtype이 float64, uint8이 두 개로 이루어져 있다. 하지만 작업에서는 uint8을 기준으로 하는게 더욱 편리하기 때문에 uint8로 맞춰준다."
      ],
      "metadata": {
        "id": "DSwnx3sJR6jX"
      }
    },
    {
      "cell_type": "code",
      "source": [
        "for i in range(len(original_data)):\n",
        "    original_data[i] = match_dtype(original_data[i])"
      ],
      "metadata": {
        "id": "ThxeP4c0RDde"
      },
      "execution_count": null,
      "outputs": []
    },
    {
      "cell_type": "markdown",
      "source": [
        "### 이상하게 생긴 1 데이터 삭제하기"
      ],
      "metadata": {
        "id": "cKbnWiIhjlDm"
      }
    },
    {
      "cell_type": "markdown",
      "source": [
        "1 데이터와 나머지 데이터를 나눈다."
      ],
      "metadata": {
        "id": "VRqiaeTLKb0T"
      }
    },
    {
      "cell_type": "code",
      "source": [
        "data_1 = []\n",
        "data_else = []\n",
        "\n",
        "for i in range(len(original_data)):\n",
        "    img, label = original_data[i]\n",
        "    img = np.reshape(img, (28,28,1))\n",
        "\n",
        "    if label == 1:\n",
        "        data_1.append((img, label))\n",
        "    else:\n",
        "        data_else.append((img, label))"
      ],
      "metadata": {
        "id": "feULUYRDaIV5"
      },
      "execution_count": null,
      "outputs": []
    },
    {
      "cell_type": "markdown",
      "source": [
        "1 데이터를 전부 출력해서, 육안으로 정상적인 데이터의 인덱스를 찾아낸다."
      ],
      "metadata": {
        "id": "HzKOZD-cKfsq"
      }
    },
    {
      "cell_type": "code",
      "source": [
        "for i in range(len(data_1)):\n",
        "    img, label = data_1[i]\n",
        "    img = np.squeeze(img)\n",
        "    print(i)\n",
        "    plt.imshow(img, cmap='gray')\n",
        "    plt.show()"
      ],
      "metadata": {
        "id": "hnIT3Am0cQQO"
      },
      "execution_count": null,
      "outputs": []
    },
    {
      "cell_type": "markdown",
      "source": [
        "앞에서 찾아낸 데이터만 추출한다."
      ],
      "metadata": {
        "id": "HzGKjkZsKr_z"
      }
    },
    {
      "cell_type": "code",
      "source": [
        "normal_data_1 = np.array([data_1[i] for i in (0,1,2,3,4,5,6,7,14,20,22,23,24,27,29,32,33,34,35,37,40,41,43,46)], dtype='object')"
      ],
      "metadata": {
        "id": "SlKLBzM8jXj-"
      },
      "execution_count": null,
      "outputs": []
    },
    {
      "cell_type": "markdown",
      "source": [
        "이미지가 제대로 들어갔는지 확인하는 코드다."
      ],
      "metadata": {
        "id": "oCBH_Pz0K6SS"
      }
    },
    {
      "cell_type": "code",
      "source": [
        "for i in range(len(normal_data_1)):\n",
        "    img, label = normal_data_1[i]\n",
        "    img = np.squeeze(img)\n",
        "    print(i)\n",
        "    plt.imshow(img, cmap='gray')\n",
        "    plt.show()"
      ],
      "metadata": {
        "id": "DsCxIzxMkrRE"
      },
      "execution_count": null,
      "outputs": []
    },
    {
      "cell_type": "markdown",
      "source": [
        "total data에 솎아낸 1 데이터와 나머지 데이터를 전부 합친다. 굳이 섞을 이유는 없지만, 뭔가 기분이 나빠서 섞었다."
      ],
      "metadata": {
        "id": "Yn31xX0gLAna"
      }
    },
    {
      "cell_type": "code",
      "source": [
        "total_data = np.concatenate([normal_data_1 ,data_else])\n",
        "np.random.shuffle(total_data)"
      ],
      "metadata": {
        "id": "ubCo1vdAjgXf"
      },
      "execution_count": null,
      "outputs": []
    },
    {
      "cell_type": "markdown",
      "source": [
        "## 3 | Augmentation"
      ],
      "metadata": {
        "id": "l4_W0d1PaBrV"
      }
    },
    {
      "cell_type": "markdown",
      "source": [
        "### zoom"
      ],
      "metadata": {
        "id": "jMyL6_yYLuPL"
      }
    },
    {
      "cell_type": "code",
      "source": [
        "zoomed_data = []\n",
        "\n",
        "for data in total_data:\n",
        "    zoom = ZoomAugmentor(data=data)\n",
        "    zoom.run()\n",
        "    zoomed_data.append((zoom.final_img, zoom.label))"
      ],
      "metadata": {
        "id": "rnXqSs303jBF"
      },
      "execution_count": null,
      "outputs": []
    },
    {
      "cell_type": "code",
      "source": [
        "# 확인하는 코드\n",
        "print_bothdata(total_data, zoomed_data)"
      ],
      "metadata": {
        "id": "wQli1LlwEN-J"
      },
      "execution_count": null,
      "outputs": []
    },
    {
      "cell_type": "markdown",
      "source": [
        "### rotate"
      ],
      "metadata": {
        "id": "pjGRnbxZH6pN"
      }
    },
    {
      "cell_type": "code",
      "source": [
        "rotated_data = []\n",
        "zoom_rotated_data = []\n",
        "\n",
        "for data in total_data:\n",
        "    rotated_data.extend(rotate_img(data))\n",
        "\n",
        "for data in zoomed_data:\n",
        "    zoom_rotated_data.extend(rotate_img(data))\n"
      ],
      "metadata": {
        "id": "gsu5uec1I0r9"
      },
      "execution_count": null,
      "outputs": []
    },
    {
      "cell_type": "markdown",
      "source": [
        "## 5 | Match type"
      ],
      "metadata": {
        "id": "X0e2L1HDa8R-"
      }
    },
    {
      "cell_type": "code",
      "source": [
        "print(type(total_data))\n",
        "print(type(zoomed_data))\n",
        "print(type(rotated_data))\n",
        "print(type(zoom_rotated_data))"
      ],
      "metadata": {
        "colab": {
          "base_uri": "https://localhost:8080/"
        },
        "id": "VKifd6w-aCzv",
        "outputId": "d38d67c1-f7be-41f7-88b8-535c7791f799"
      },
      "execution_count": null,
      "outputs": [
        {
          "output_type": "stream",
          "name": "stdout",
          "text": [
            "<class 'numpy.ndarray'>\n",
            "<class 'list'>\n",
            "<class 'list'>\n",
            "<class 'list'>\n"
          ]
        }
      ]
    },
    {
      "cell_type": "code",
      "source": [
        "zoomed_data = np.array(zoomed_data, dtype=object)\n",
        "rotated_data = np.array(rotated_data, dtype=object)\n",
        "zoom_rotated_data = np.array(zoom_rotated_data, dtype=object)"
      ],
      "metadata": {
        "id": "Rlx-voGOaYSH"
      },
      "execution_count": null,
      "outputs": []
    },
    {
      "cell_type": "markdown",
      "source": [
        "### 6 | Check data info"
      ],
      "metadata": {
        "id": "YqkW1teWwNtm"
      }
    },
    {
      "cell_type": "code",
      "source": [
        "# shape must be (28,28,1)\n",
        "\n",
        "print(total_data[0,0].shape)\n",
        "print(zoomed_data[0,0].shape)\n",
        "print(rotated_data[0,0].shape)\n",
        "print(zoom_rotated_data[0,0].shape)"
      ],
      "metadata": {
        "colab": {
          "base_uri": "https://localhost:8080/"
        },
        "id": "RNYCPi0nujlJ",
        "outputId": "ecf2efb6-e4bf-48de-c121-395b5b74f6a3"
      },
      "execution_count": null,
      "outputs": [
        {
          "output_type": "stream",
          "name": "stdout",
          "text": [
            "(28, 28, 1)\n",
            "(28, 28, 1)\n",
            "(28, 28, 1)\n",
            "(28, 28, 1)\n"
          ]
        }
      ]
    },
    {
      "cell_type": "code",
      "source": [
        "#type must be np.array\n",
        "\n",
        "print(type(total_data))\n",
        "print(type(zoomed_data))\n",
        "print(type(rotated_data))\n",
        "print(type(zoom_rotated_data))"
      ],
      "metadata": {
        "colab": {
          "base_uri": "https://localhost:8080/"
        },
        "id": "GkFHkGIHajSO",
        "outputId": "e84743ef-49d7-466c-89e3-216be87a927a"
      },
      "execution_count": null,
      "outputs": [
        {
          "output_type": "stream",
          "name": "stdout",
          "text": [
            "<class 'numpy.ndarray'>\n",
            "<class 'numpy.ndarray'>\n",
            "<class 'numpy.ndarray'>\n",
            "<class 'numpy.ndarray'>\n"
          ]
        }
      ]
    },
    {
      "cell_type": "markdown",
      "source": [
        "## 4 | Download"
      ],
      "metadata": {
        "id": "Hj1e4r6cGWpc"
      }
    },
    {
      "cell_type": "code",
      "source": [
        "with open('/content/drive/MyDrive/MNISTandCustom/datafile_02/collected_data.txt','wb') as f:\n",
        "    pickle.dump(total_data,f)\n",
        "\n",
        "with open('/content/drive/MyDrive/MNISTandCustom/datafile_02/zoomed_data.txt','wb') as f:\n",
        "    pickle.dump(zoomed_data,f)\n",
        "\n",
        "with open('/content/drive/MyDrive/MNISTandCustom/datafile_02/rotated_data.txt','wb') as f:\n",
        "    pickle.dump(rotated_data,f)\n",
        "\n",
        "with open('/content/drive/MyDrive/MNISTandCustom/datafile_02/zoom_rotated_data.txt','wb') as f:\n",
        "    pickle.dump(zoom_rotated_data,f)"
      ],
      "metadata": {
        "id": "kFXO5Bl_ACK6"
      },
      "execution_count": null,
      "outputs": []
    },
    {
      "cell_type": "markdown",
      "source": [
        "문제 상황 : 어떤 데이터는 0-1사이, 어떤거는 255 사이\n",
        "이유는 모르겠는데 뭐 ... 내가 중간에 코드를 바꿨겠지"
      ],
      "metadata": {
        "id": "UpOvhpq93LKt"
      }
    }
  ]
}